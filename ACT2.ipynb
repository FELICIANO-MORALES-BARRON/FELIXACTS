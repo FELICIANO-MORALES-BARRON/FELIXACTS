{
  "nbformat": 4,
  "nbformat_minor": 0,
  "metadata": {
    "colab": {
      "provenance": []
    },
    "kernelspec": {
      "name": "python3",
      "display_name": "Python 3"
    },
    "language_info": {
      "name": "python"
    }
  },
  "cells": [
    {
      "cell_type": "code",
      "execution_count": null,
      "metadata": {
        "colab": {
          "base_uri": "https://localhost:8080/"
        },
        "id": "eSGpwtaRZ-S9",
        "outputId": "bb9746c9-f6bb-4d9a-a90d-086af816a3d0"
      },
      "outputs": [
        {
          "output_type": "stream",
          "name": "stdout",
          "text": [
            "Ingrese su nombre: Felix\n",
            "¡Hola, Felix!\n"
          ]
        }
      ],
      "source": [
        "nombre = input(\"Ingrese su nombre: \")\n",
        "if nombre.lower() in [\"ana\", \"juan\", \"pedro\"]:\n",
        "    print(\"Lo siento, no puedo saludarte.\")\n",
        "else:\n",
        "    print(f\"¡Hola, {nombre}!\")\n",
        "\n"
      ]
    },
    {
      "cell_type": "code",
      "source": [
        "def invertir_lista():\n",
        "    lista = input(\"Ingrese una lista de elementos separados por comas: \").split(\",\")\n",
        "    lista_invertida = lista[::-1]\n",
        "    return lista_invertida\n",
        "\n",
        "invertida = invertir_lista()\n",
        "print(invertida)\n"
      ],
      "metadata": {
        "colab": {
          "base_uri": "https://localhost:8080/"
        },
        "id": "SJzba2Ojadgf",
        "outputId": "5d292274-9c04-4fdf-e0a2-b9824466d2d7"
      },
      "execution_count": null,
      "outputs": [
        {
          "output_type": "stream",
          "name": "stdout",
          "text": [
            "Ingrese una lista de elementos separados por comas: Libros,Plumas,Lapices,Borradores,sacapuntas,libretas\n",
            "['libretas', 'sacapuntas', 'Borradores', 'Lapices', 'Plumas', 'Libros']\n"
          ]
        }
      ]
    },
    {
      "cell_type": "code",
      "source": [
        "def fibonacci(n):\n",
        "    if n <= 0:\n",
        "        return []\n",
        "    elif n == 1:\n",
        "        return [0]\n",
        "    elif n == 2:\n",
        "        return [0, 1]\n",
        "    else:\n",
        "        fib = [0, 1]\n",
        "        while len(fib) < n:\n",
        "            fib.append(fib[-1] + fib[-2])\n",
        "        return fib\n",
        "\n",
        "n = int(input(\"¿Cuántos números de la serie de Fibonacci quieres generar? \"))\n",
        "serie = fibonacci(n)\n",
        "print(serie)\n"
      ],
      "metadata": {
        "colab": {
          "base_uri": "https://localhost:8080/"
        },
        "id": "Dj2bhxQ4bcyY",
        "outputId": "374b637b-05bf-424f-d59c-e75bb5a7ec81"
      },
      "execution_count": null,
      "outputs": [
        {
          "output_type": "stream",
          "name": "stdout",
          "text": [
            "¿Cuántos números de la serie de Fibonacci quieres generar? 4\n",
            "[0, 1, 1, 2]\n"
          ]
        }
      ]
    },
    {
      "cell_type": "code",
      "source": [],
      "metadata": {
        "id": "ba_-69H_aGSg"
      },
      "execution_count": null,
      "outputs": []
    }
  ]
}